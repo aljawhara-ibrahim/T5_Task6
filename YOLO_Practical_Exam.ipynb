{
  "cells": [
    {
      "cell_type": "markdown",
      "id": "fd8284c7",
      "metadata": {
        "id": "fd8284c7"
      },
      "source": [
        "# Road Traffic Vehicle Counting Exam"
      ]
    },
    {
      "cell_type": "markdown",
      "id": "90e8c1a5",
      "metadata": {
        "id": "90e8c1a5"
      },
      "source": [
        "In this exam, you will use the YOLO (You Only Look Once) object detection model to analyze a video of road traffic. Your primary task is to count the number of vehicles exiting the road at each of the four exits (located at the top, bottom, left, and right of the frame). The video for this task is provided at `Datasets/YOLO_Exam_Video.mp4`.\n",
        "\n",
        "## Objectives\n",
        "- Load and process the video using OpenCV.\n",
        "- Utilize the YOLO model to detect vehicles in each frame.\n",
        "- Manipulate the video frames using OpenCV.\n",
        "- Track vehicles as they move across the video frames.\n",
        "- Count the number of vehicles exiting via the top street.\n",
        "- Count the number of vehicles exiting via the bottom street.\n",
        "- Count the number of vehicles exiting via the left street.\n",
        "- Count the number of vehicles exiting via the right street.\n"
      ]
    },
    {
      "cell_type": "markdown",
      "id": "c7269b0e",
      "metadata": {
        "id": "c7269b0e"
      },
      "source": [
        "## Setup Environment"
      ]
    },
    {
      "cell_type": "markdown",
      "id": "2fd3bce8",
      "metadata": {
        "id": "2fd3bce8"
      },
      "source": [
        "Before you begin, ensure you have the necessary libraries installed. You will need `opencv`, and `ultralytics` among others.\n",
        "If these are not installed, you should install them."
      ]
    },
    {
      "cell_type": "code",
      "source": [
        "!pip install ultralytics -q"
      ],
      "metadata": {
        "id": "0481taE5P-s-"
      },
      "id": "0481taE5P-s-",
      "execution_count": 1,
      "outputs": []
    },
    {
      "cell_type": "code",
      "source": [
        "import cv2\n",
        "from ultralytics import YOLO, solutions\n",
        "from IPython.display import Video\n",
        "import numpy as np\n",
        "import shutil"
      ],
      "metadata": {
        "id": "oMiDRDMU44wR"
      },
      "id": "oMiDRDMU44wR",
      "execution_count": 2,
      "outputs": []
    },
    {
      "cell_type": "markdown",
      "id": "a69c2ac2",
      "metadata": {
        "id": "a69c2ac2"
      },
      "source": [
        "## Load the YOLO Model"
      ]
    },
    {
      "cell_type": "code",
      "source": [
        "from google.colab import drive\n",
        "drive.mount('/content/drive')"
      ],
      "metadata": {
        "id": "Fwedm5XXsqRE",
        "outputId": "1e60755e-d38e-4711-edb1-8e137baceebf",
        "colab": {
          "base_uri": "https://localhost:8080/"
        }
      },
      "id": "Fwedm5XXsqRE",
      "execution_count": 3,
      "outputs": [
        {
          "output_type": "stream",
          "name": "stdout",
          "text": [
            "Drive already mounted at /content/drive; to attempt to forcibly remount, call drive.mount(\"/content/drive\", force_remount=True).\n"
          ]
        }
      ]
    },
    {
      "cell_type": "code",
      "source": [
        "model = YOLO('/content/drive/MyDrive/T5/Night/Dataset/YOLO_Model.pt')"
      ],
      "metadata": {
        "id": "WrViFBpe5bqa"
      },
      "id": "WrViFBpe5bqa",
      "execution_count": 4,
      "outputs": []
    },
    {
      "cell_type": "markdown",
      "id": "145d70fc",
      "metadata": {
        "id": "145d70fc"
      },
      "source": [
        "You will first need to load the YOLO model, there is a custom model for this exam called `YOLO_Model.pt` under Datasets file ⚠️ PLEASE USE THIS MODEL AND DO NOT USE ANY OTHER MODEL ⚠️.\n",
        "Write the code to load the YOLO model below:"
      ]
    },
    {
      "cell_type": "markdown",
      "id": "cf691ac8",
      "metadata": {
        "id": "cf691ac8"
      },
      "source": [
        "## Prepare the Video Capture"
      ]
    },
    {
      "cell_type": "markdown",
      "metadata": {
        "id": "Nw9RSvKCdonK"
      },
      "source": [
        "Create a variable to capture the video frames, you can use `cv2.VideoCapture()` to achive this."
      ],
      "id": "Nw9RSvKCdonK"
    },
    {
      "cell_type": "code",
      "source": [
        "video =cv2.VideoCapture('/content/drive/MyDrive/T5/Night/Dataset/YOLO_Video.mp4')"
      ],
      "metadata": {
        "id": "HNYhrzeDsql4"
      },
      "id": "HNYhrzeDsql4",
      "execution_count": 5,
      "outputs": []
    },
    {
      "cell_type": "markdown",
      "id": "48757309",
      "metadata": {
        "id": "48757309"
      },
      "source": [
        "## Get Video Information"
      ]
    },
    {
      "cell_type": "markdown",
      "id": "b4f5d5bc",
      "metadata": {
        "id": "b4f5d5bc"
      },
      "source": [
        "You can use `cv2` library to get these information fro the `VideoCapture()` variable you created to extract these information:\n",
        "* `height`: Video's height.\n",
        "* `width`: Video's width.\n",
        "* `fps`: Video's frames."
      ]
    },
    {
      "cell_type": "code",
      "source": [
        "w, h, fps = (int(video.get(x)) for x in (cv2.CAP_PROP_FRAME_WIDTH, cv2.CAP_PROP_FRAME_HEIGHT, cv2.CAP_PROP_FPS))\n"
      ],
      "metadata": {
        "id": "xK594A3ysrg4"
      },
      "id": "xK594A3ysrg4",
      "execution_count": 6,
      "outputs": []
    },
    {
      "cell_type": "markdown",
      "id": "3f241495",
      "metadata": {
        "id": "3f241495"
      },
      "source": [
        "## Prepare Video Writer to Store the Output"
      ]
    },
    {
      "cell_type": "markdown",
      "id": "9ef61a34",
      "metadata": {
        "id": "9ef61a34"
      },
      "source": [
        "Create a variable that uses `cv2.VideoCapture()` to save the video with the bounding boxes, specified Region of Interest rectangle (ROI) and the counted vehicles on each sides. You will need to make the video with the same `fps`, `width`, `height`, and specify the codec and output path of the video."
      ]
    },
    {
      "cell_type": "code",
      "source": [
        "video_writer = cv2.VideoWriter(\"YOLO_Video.mp4\", cv2.VideoWriter_fourcc(*'mp4v'), fps,(w,h))"
      ],
      "metadata": {
        "id": "cf6KZPl88TEA"
      },
      "id": "cf6KZPl88TEA",
      "execution_count": 7,
      "outputs": []
    },
    {
      "cell_type": "markdown",
      "id": "31e882a2",
      "metadata": {
        "id": "31e882a2"
      },
      "source": [
        "## Expermint to get the `(x1, y1, x2, y2)` of the ROI"
      ]
    },
    {
      "cell_type": "markdown",
      "id": "3b6e6d97",
      "metadata": {
        "id": "3b6e6d97"
      },
      "source": [
        "### Hint\n",
        "When defining the Regions of Interest (ROIs) for detecting vehicles exiting the road, consider the coordinates that outline the relevant areas. These coordinates can be specified as `(x1, y1, x2, y2)`, where `(x1, y1)` is the top-left corner and `(x2, y2)` is the bottom-right corner of the rectangle.\n",
        "\n",
        "Experiment with different coordinates to accurately cover the streets where vehicles exit. Visualize these ROIs by drawing rectangles on a frame of the video and adjust the coordinates as needed until you capture the desired areas effectively."
      ]
    },
    {
      "cell_type": "code",
      "source": [
        "top_Line = np.array([\n",
        "    (1160, 200),  # Top street exit\n",
        "    (1050, 200)   # Top street exit\n",
        "], dtype=np.int32)\n",
        "\n",
        "left_Line = np.array([\n",
        "    (525, 350),  # Left street exit\n",
        "    (525, 550)   # Left street exit\n",
        "], dtype=np.int32)\n",
        "\n",
        "bottom_Line = np.array([\n",
        "    (680, 1000),  # Bottom street exit\n",
        "    (775, 1000)   # Bottom street exit\n",
        "], dtype=np.int32)\n",
        "\n",
        "right_Line = np.array([\n",
        "    (1350, 725),  # Right street exit\n",
        "    (1350, 545)   # Right street exit\n",
        "], dtype=np.int32)\n",
        "\n",
        "lane_threshold_y_top = 200\n",
        "lane_threshold_x_left = 525\n",
        "lane_threshold_y_bottom = 1000\n",
        "lane_threshold_x_right = 1350\n"
      ],
      "metadata": {
        "id": "qKmI7lftsv8H"
      },
      "id": "qKmI7lftsv8H",
      "execution_count": 8,
      "outputs": []
    },
    {
      "cell_type": "code",
      "source": [
        "text_positions = {\n",
        "    \"top\": (10, 50),\n",
        "    \"left\": (10, 100),\n",
        "    \"right\": (10, 150),\n",
        "    \"bottom\": (10, 200)\n",
        "}\n",
        "\n",
        "import cv2\n",
        "\n",
        "#image = cv2.imread('/content/Yolo_Project')\n",
        "#text = \"Aljawhara\"\n",
        "#org = (50, 50)  # Bottom-left corner of the text string in the image\n",
        "#font = cv2.FONT_HERSHEY_SIMPLEX\n",
        "#fontScale = 1\n",
        "#color = (255, 0, 0)  # Blue color in BGR\n",
        "#thickness = 2\n",
        "\n",
        "#cv2.putText(image, text, org, font, fontScale, color, thickness, cv2.LINE_AA)\n"
      ],
      "metadata": {
        "id": "mBFd1Ep_Lbnh"
      },
      "id": "mBFd1Ep_Lbnh",
      "execution_count": 9,
      "outputs": []
    },
    {
      "cell_type": "code",
      "source": [
        "import cv2\n",
        "\n",
        "image = cv2.imread('path_to_image')\n",
        "text = \"Aljawhara\"\n",
        "org = (50, 50)  # Bottom-left corner of the text string in the image\n",
        "font = cv2.FONT_HERSHEY_SIMPLEX\n",
        "fontScale = 1\n",
        "color = (255, 0, 0)  # Blue color in BGR\n",
        "thickness = 2\n",
        "\n",
        "cv2.putText(image, text, org, font, fontScale, color, thickness, cv2.LINE_AA)\n",
        "cv2.imshow('Image', image)\n",
        "cv2.waitKey(0)\n",
        "cv2.destroyAllWindows()"
      ],
      "metadata": {
        "id": "9quYfzf7M2WM"
      },
      "id": "9quYfzf7M2WM",
      "execution_count": null,
      "outputs": []
    },
    {
      "cell_type": "code",
      "source": [],
      "metadata": {
        "id": "y_c7DnMFNAUY"
      },
      "id": "y_c7DnMFNAUY",
      "execution_count": null,
      "outputs": []
    },
    {
      "cell_type": "code",
      "source": [],
      "metadata": {
        "id": "AqlzWpvmNAQ_"
      },
      "id": "AqlzWpvmNAQ_",
      "execution_count": null,
      "outputs": []
    },
    {
      "cell_type": "code",
      "source": [],
      "metadata": {
        "id": "PsB76Q9bNAKn"
      },
      "id": "PsB76Q9bNAKn",
      "execution_count": null,
      "outputs": []
    },
    {
      "cell_type": "code",
      "source": [
        "out = cv2.VideoWriter(\"YOLO_Exam.mp4\", cv2.VideoWriter_fourcc(*'mp4v'), 20.0, (int(video.get(3)), int(video.get(4))))\n",
        "\n",
        "x1 = 300\n",
        "x2 = 700\n",
        "\n",
        "font = cv2.FONT_HERSHEY_SIMPLEX\n",
        "font_scale = 0.5\n",
        "font_color = (0, 0, 255)\n",
        "background_color = (0, 255, 0)\n",
        "\n",
        "while video.isOpened():\n",
        "    ret, frame = video.read()\n",
        "    if ret:\n",
        "        detection = frame.copy()\n",
        "        detection[:x1, :] = 0\n",
        "        detection[x2:, :] = 0\n",
        "        res = model.predict(detection)\n",
        "        processed = res[0].plot(line_width=1)\n",
        "        processed[:x1, :] = frame[:x1, :].copy()\n",
        "        processed[x2:, :] = frame[x2:, :].copy()\n",
        "        cv2.polylines(processed, [top_Line], isClosed=True, color=(0, 0, 255), thickness=5)\n",
        "        cv2.polylines(processed, [left_Line], isClosed=True, color=(0, 0, 255), thickness=5)\n",
        "        cv2.polylines(processed, [bottom_Line], isClosed=True, color=(0, 0, 255), thickness=5)\n",
        "        cv2.polylines(processed, [right_Line], isClosed=True, color=(0, 0, 255), thickness=5)\n",
        "        bounding_boxes = res[0].boxes\n",
        "\n",
        "\n",
        "        vehicles_count = {\"left\": 0, \"right\": 0, \"top\": 0, \"bottom\": 0}\n",
        "        for box in bounding_boxes.xyxy:\n",
        "            center_x = (box[0] + box[2]) / 2\n",
        "            center_y = (box[1] + box[3]) / 2\n",
        "            if (center_x < lane_threshold_x_left) and (550 > center_y) and (center_y > 350):\n",
        "                vehicles_count[\"left\"] += 1\n",
        "            elif (center_x > lane_threshold_x_right) and  (725 > center_y) and (center_y > 545)  :\n",
        "                vehicles_count[\"right\"] += 1\n",
        "            elif (center_y < lane_threshold_y_top) and (1160> center_x) and (center_x > 1050):\n",
        "                vehicles_count[\"top\"] += 1\n",
        "            elif (center_y > lane_threshold_y_bottom) and (775 > center_x) and (center_x > 680):\n",
        "                vehicles_count[\"bottom\"] += 1\n",
        "\n",
        "\n",
        "        for lane, position in text_positions.items():\n",
        "            cv2.rectangle(processed, (position[0] - 10, position[1] - 25),\n",
        "                          (position[0] + 460, position[1] + 10), background_color, -1)\n",
        "            cv2.putText(processed, f'Vehicles in {lane.capitalize()} Lane: {vehicles_count[lane]}',\n",
        "                        position, font, font_scale, font_color, 2, cv2.LINE_AA)\n",
        "\n",
        "        out.write(processed)\n",
        "    else:\n",
        "        break\n",
        "\n",
        "\n",
        "video.release()\n",
        "out.release()"
      ],
      "metadata": {
        "id": "DLAha8IkLvXD",
        "outputId": "cff7e81d-d25b-4c55-a523-5d99ae328fed",
        "colab": {
          "base_uri": "https://localhost:8080/"
        }
      },
      "id": "DLAha8IkLvXD",
      "execution_count": null,
      "outputs": [
        {
          "output_type": "stream",
          "name": "stdout",
          "text": [
            "\n",
            "0: 384x640 1 bus, 7 cars, 2665.7ms\n",
            "Speed: 4.6ms preprocess, 2665.7ms inference, 1.4ms postprocess per image at shape (1, 3, 384, 640)\n",
            "\n",
            "0: 384x640 8 cars, 2601.8ms\n",
            "Speed: 4.3ms preprocess, 2601.8ms inference, 0.9ms postprocess per image at shape (1, 3, 384, 640)\n",
            "\n",
            "0: 384x640 8 cars, 2539.2ms\n",
            "Speed: 4.4ms preprocess, 2539.2ms inference, 0.9ms postprocess per image at shape (1, 3, 384, 640)\n",
            "\n",
            "0: 384x640 11 cars, 3064.4ms\n",
            "Speed: 6.6ms preprocess, 3064.4ms inference, 1.3ms postprocess per image at shape (1, 3, 384, 640)\n",
            "\n",
            "0: 384x640 10 cars, 3839.3ms\n",
            "Speed: 4.1ms preprocess, 3839.3ms inference, 0.9ms postprocess per image at shape (1, 3, 384, 640)\n",
            "\n",
            "0: 384x640 7 cars, 2532.8ms\n",
            "Speed: 4.1ms preprocess, 2532.8ms inference, 1.1ms postprocess per image at shape (1, 3, 384, 640)\n",
            "\n",
            "0: 384x640 7 cars, 2508.4ms\n",
            "Speed: 6.1ms preprocess, 2508.4ms inference, 0.9ms postprocess per image at shape (1, 3, 384, 640)\n",
            "\n",
            "0: 384x640 8 cars, 2537.9ms\n",
            "Speed: 4.7ms preprocess, 2537.9ms inference, 0.9ms postprocess per image at shape (1, 3, 384, 640)\n",
            "\n",
            "0: 384x640 6 cars, 3176.5ms\n",
            "Speed: 5.4ms preprocess, 3176.5ms inference, 1.2ms postprocess per image at shape (1, 3, 384, 640)\n",
            "\n",
            "0: 384x640 6 cars, 3562.7ms\n",
            "Speed: 4.1ms preprocess, 3562.7ms inference, 0.9ms postprocess per image at shape (1, 3, 384, 640)\n",
            "\n",
            "0: 384x640 6 cars, 2537.7ms\n",
            "Speed: 4.6ms preprocess, 2537.7ms inference, 0.9ms postprocess per image at shape (1, 3, 384, 640)\n",
            "\n",
            "0: 384x640 5 cars, 2542.3ms\n",
            "Speed: 4.4ms preprocess, 2542.3ms inference, 0.9ms postprocess per image at shape (1, 3, 384, 640)\n",
            "\n",
            "0: 384x640 5 cars, 2553.6ms\n",
            "Speed: 4.2ms preprocess, 2553.6ms inference, 0.9ms postprocess per image at shape (1, 3, 384, 640)\n",
            "\n",
            "0: 384x640 6 cars, 3370.1ms\n",
            "Speed: 3.8ms preprocess, 3370.1ms inference, 1.1ms postprocess per image at shape (1, 3, 384, 640)\n",
            "\n",
            "0: 384x640 8 cars, 3526.6ms\n",
            "Speed: 4.1ms preprocess, 3526.6ms inference, 0.9ms postprocess per image at shape (1, 3, 384, 640)\n",
            "\n",
            "0: 384x640 8 cars, 2508.0ms\n",
            "Speed: 5.1ms preprocess, 2508.0ms inference, 0.9ms postprocess per image at shape (1, 3, 384, 640)\n",
            "\n",
            "0: 384x640 7 cars, 3473.1ms\n",
            "Speed: 4.8ms preprocess, 3473.1ms inference, 1.0ms postprocess per image at shape (1, 3, 384, 640)\n",
            "\n",
            "0: 384x640 7 cars, 1 van, 2507.9ms\n",
            "Speed: 3.8ms preprocess, 2507.9ms inference, 0.9ms postprocess per image at shape (1, 3, 384, 640)\n",
            "\n",
            "0: 384x640 8 cars, 3981.8ms\n",
            "Speed: 3.8ms preprocess, 3981.8ms inference, 1.3ms postprocess per image at shape (1, 3, 384, 640)\n",
            "\n",
            "0: 384x640 9 cars, 1 van, 2907.2ms\n",
            "Speed: 4.0ms preprocess, 2907.2ms inference, 0.9ms postprocess per image at shape (1, 3, 384, 640)\n",
            "\n",
            "0: 384x640 6 cars, 2534.3ms\n",
            "Speed: 4.2ms preprocess, 2534.3ms inference, 1.0ms postprocess per image at shape (1, 3, 384, 640)\n",
            "\n",
            "0: 384x640 8 cars, 2533.1ms\n",
            "Speed: 3.8ms preprocess, 2533.1ms inference, 0.9ms postprocess per image at shape (1, 3, 384, 640)\n",
            "\n",
            "0: 384x640 8 cars, 2558.6ms\n",
            "Speed: 4.0ms preprocess, 2558.6ms inference, 0.9ms postprocess per image at shape (1, 3, 384, 640)\n",
            "\n",
            "0: 384x640 8 cars, 4168.5ms\n",
            "Speed: 3.9ms preprocess, 4168.5ms inference, 1.2ms postprocess per image at shape (1, 3, 384, 640)\n",
            "\n",
            "0: 384x640 9 cars, 2777.9ms\n",
            "Speed: 5.4ms preprocess, 2777.9ms inference, 0.9ms postprocess per image at shape (1, 3, 384, 640)\n",
            "\n",
            "0: 384x640 8 cars, 2551.5ms\n",
            "Speed: 5.5ms preprocess, 2551.5ms inference, 0.9ms postprocess per image at shape (1, 3, 384, 640)\n",
            "\n",
            "0: 384x640 7 cars, 2541.1ms\n",
            "Speed: 3.9ms preprocess, 2541.1ms inference, 1.0ms postprocess per image at shape (1, 3, 384, 640)\n",
            "\n",
            "0: 384x640 8 cars, 2546.2ms\n",
            "Speed: 4.3ms preprocess, 2546.2ms inference, 1.3ms postprocess per image at shape (1, 3, 384, 640)\n",
            "\n",
            "0: 384x640 8 cars, 4197.2ms\n",
            "Speed: 4.4ms preprocess, 4197.2ms inference, 1.5ms postprocess per image at shape (1, 3, 384, 640)\n",
            "\n",
            "0: 384x640 8 cars, 2665.8ms\n",
            "Speed: 4.1ms preprocess, 2665.8ms inference, 0.9ms postprocess per image at shape (1, 3, 384, 640)\n",
            "\n",
            "0: 384x640 7 cars, 2582.8ms\n",
            "Speed: 4.5ms preprocess, 2582.8ms inference, 0.9ms postprocess per image at shape (1, 3, 384, 640)\n",
            "\n",
            "0: 384x640 7 cars, 2534.1ms\n",
            "Speed: 3.9ms preprocess, 2534.1ms inference, 0.9ms postprocess per image at shape (1, 3, 384, 640)\n",
            "\n",
            "0: 384x640 8 cars, 3001.1ms\n",
            "Speed: 5.0ms preprocess, 3001.1ms inference, 1.1ms postprocess per image at shape (1, 3, 384, 640)\n",
            "\n",
            "0: 384x640 8 cars, 3988.2ms\n",
            "Speed: 4.1ms preprocess, 3988.2ms inference, 0.9ms postprocess per image at shape (1, 3, 384, 640)\n",
            "\n",
            "0: 384x640 7 cars, 2564.1ms\n",
            "Speed: 4.0ms preprocess, 2564.1ms inference, 1.2ms postprocess per image at shape (1, 3, 384, 640)\n",
            "\n",
            "0: 384x640 6 cars, 2886.1ms\n",
            "Speed: 4.0ms preprocess, 2886.1ms inference, 0.9ms postprocess per image at shape (1, 3, 384, 640)\n",
            "\n",
            "0: 384x640 8 cars, 2524.1ms\n",
            "Speed: 4.9ms preprocess, 2524.1ms inference, 1.1ms postprocess per image at shape (1, 3, 384, 640)\n",
            "\n",
            "0: 384x640 7 cars, 3171.1ms\n",
            "Speed: 4.1ms preprocess, 3171.1ms inference, 1.2ms postprocess per image at shape (1, 3, 384, 640)\n",
            "\n",
            "0: 384x640 8 cars, 3764.1ms\n",
            "Speed: 4.1ms preprocess, 3764.1ms inference, 0.9ms postprocess per image at shape (1, 3, 384, 640)\n",
            "\n",
            "0: 384x640 8 cars, 2542.1ms\n",
            "Speed: 5.2ms preprocess, 2542.1ms inference, 0.9ms postprocess per image at shape (1, 3, 384, 640)\n",
            "\n",
            "0: 384x640 8 cars, 2577.9ms\n",
            "Speed: 3.8ms preprocess, 2577.9ms inference, 0.9ms postprocess per image at shape (1, 3, 384, 640)\n",
            "\n",
            "0: 384x640 9 cars, 2556.2ms\n",
            "Speed: 4.5ms preprocess, 2556.2ms inference, 1.3ms postprocess per image at shape (1, 3, 384, 640)\n",
            "\n",
            "0: 384x640 7 cars, 3387.0ms\n",
            "Speed: 3.6ms preprocess, 3387.0ms inference, 1.5ms postprocess per image at shape (1, 3, 384, 640)\n",
            "\n",
            "0: 384x640 8 cars, 3530.7ms\n",
            "Speed: 7.5ms preprocess, 3530.7ms inference, 0.9ms postprocess per image at shape (1, 3, 384, 640)\n",
            "\n",
            "0: 384x640 9 cars, 2592.8ms\n",
            "Speed: 4.2ms preprocess, 2592.8ms inference, 0.9ms postprocess per image at shape (1, 3, 384, 640)\n",
            "\n",
            "0: 384x640 8 cars, 2518.3ms\n",
            "Speed: 3.9ms preprocess, 2518.3ms inference, 0.9ms postprocess per image at shape (1, 3, 384, 640)\n",
            "\n",
            "0: 384x640 10 cars, 2545.6ms\n",
            "Speed: 3.3ms preprocess, 2545.6ms inference, 1.0ms postprocess per image at shape (1, 3, 384, 640)\n",
            "\n",
            "0: 384x640 10 cars, 3421.7ms\n",
            "Speed: 4.5ms preprocess, 3421.7ms inference, 1.1ms postprocess per image at shape (1, 3, 384, 640)\n",
            "\n",
            "0: 384x640 9 cars, 3436.9ms\n",
            "Speed: 4.3ms preprocess, 3436.9ms inference, 0.9ms postprocess per image at shape (1, 3, 384, 640)\n",
            "\n",
            "0: 384x640 9 cars, 2572.1ms\n",
            "Speed: 3.9ms preprocess, 2572.1ms inference, 0.9ms postprocess per image at shape (1, 3, 384, 640)\n",
            "\n",
            "0: 384x640 10 cars, 2555.5ms\n",
            "Speed: 4.6ms preprocess, 2555.5ms inference, 0.9ms postprocess per image at shape (1, 3, 384, 640)\n",
            "\n",
            "0: 384x640 9 cars, 2551.4ms\n",
            "Speed: 3.9ms preprocess, 2551.4ms inference, 0.9ms postprocess per image at shape (1, 3, 384, 640)\n",
            "\n",
            "0: 384x640 10 cars, 3594.1ms\n",
            "Speed: 3.7ms preprocess, 3594.1ms inference, 2.0ms postprocess per image at shape (1, 3, 384, 640)\n",
            "\n",
            "0: 384x640 10 cars, 3235.4ms\n",
            "Speed: 4.3ms preprocess, 3235.4ms inference, 1.0ms postprocess per image at shape (1, 3, 384, 640)\n",
            "\n",
            "0: 384x640 9 cars, 2586.7ms\n",
            "Speed: 3.9ms preprocess, 2586.7ms inference, 0.9ms postprocess per image at shape (1, 3, 384, 640)\n",
            "\n",
            "0: 384x640 9 cars, 2547.0ms\n",
            "Speed: 3.9ms preprocess, 2547.0ms inference, 1.0ms postprocess per image at shape (1, 3, 384, 640)\n",
            "\n",
            "0: 384x640 8 cars, 2558.4ms\n",
            "Speed: 4.1ms preprocess, 2558.4ms inference, 1.1ms postprocess per image at shape (1, 3, 384, 640)\n",
            "\n",
            "0: 384x640 8 cars, 3804.3ms\n",
            "Speed: 5.6ms preprocess, 3804.3ms inference, 1.3ms postprocess per image at shape (1, 3, 384, 640)\n",
            "\n",
            "0: 384x640 9 cars, 3128.5ms\n",
            "Speed: 4.4ms preprocess, 3128.5ms inference, 0.9ms postprocess per image at shape (1, 3, 384, 640)\n",
            "\n",
            "0: 384x640 7 cars, 2576.4ms\n",
            "Speed: 4.2ms preprocess, 2576.4ms inference, 0.9ms postprocess per image at shape (1, 3, 384, 640)\n",
            "\n",
            "0: 384x640 9 cars, 2573.2ms\n",
            "Speed: 4.4ms preprocess, 2573.2ms inference, 0.9ms postprocess per image at shape (1, 3, 384, 640)\n",
            "\n",
            "0: 384x640 8 cars, 2575.0ms\n",
            "Speed: 3.9ms preprocess, 2575.0ms inference, 0.9ms postprocess per image at shape (1, 3, 384, 640)\n",
            "\n",
            "0: 384x640 9 cars, 4032.9ms\n",
            "Speed: 3.9ms preprocess, 4032.9ms inference, 1.2ms postprocess per image at shape (1, 3, 384, 640)\n",
            "\n",
            "0: 384x640 7 cars, 2926.6ms\n",
            "Speed: 4.2ms preprocess, 2926.6ms inference, 0.9ms postprocess per image at shape (1, 3, 384, 640)\n",
            "\n",
            "0: 384x640 11 cars, 2629.1ms\n",
            "Speed: 5.3ms preprocess, 2629.1ms inference, 0.9ms postprocess per image at shape (1, 3, 384, 640)\n",
            "\n",
            "0: 384x640 10 cars, 2568.5ms\n",
            "Speed: 5.0ms preprocess, 2568.5ms inference, 0.9ms postprocess per image at shape (1, 3, 384, 640)\n",
            "\n",
            "0: 384x640 10 cars, 2585.2ms\n",
            "Speed: 4.9ms preprocess, 2585.2ms inference, 1.2ms postprocess per image at shape (1, 3, 384, 640)\n",
            "\n",
            "0: 384x640 11 cars, 4172.7ms\n",
            "Speed: 6.4ms preprocess, 4172.7ms inference, 1.3ms postprocess per image at shape (1, 3, 384, 640)\n",
            "\n",
            "0: 384x640 10 cars, 2646.9ms\n",
            "Speed: 4.2ms preprocess, 2646.9ms inference, 0.9ms postprocess per image at shape (1, 3, 384, 640)\n",
            "\n",
            "0: 384x640 10 cars, 2745.9ms\n",
            "Speed: 3.7ms preprocess, 2745.9ms inference, 2.4ms postprocess per image at shape (1, 3, 384, 640)\n",
            "\n",
            "0: 384x640 8 cars, 2572.7ms\n",
            "Speed: 4.2ms preprocess, 2572.7ms inference, 0.9ms postprocess per image at shape (1, 3, 384, 640)\n",
            "\n",
            "0: 384x640 8 cars, 2882.2ms\n",
            "Speed: 4.2ms preprocess, 2882.2ms inference, 1.1ms postprocess per image at shape (1, 3, 384, 640)\n",
            "\n",
            "0: 384x640 8 cars, 3920.4ms\n",
            "Speed: 6.2ms preprocess, 3920.4ms inference, 1.1ms postprocess per image at shape (1, 3, 384, 640)\n",
            "\n",
            "0: 384x640 8 cars, 2672.6ms\n",
            "Speed: 4.6ms preprocess, 2672.6ms inference, 0.9ms postprocess per image at shape (1, 3, 384, 640)\n",
            "\n",
            "0: 384x640 8 cars, 2579.9ms\n",
            "Speed: 4.5ms preprocess, 2579.9ms inference, 1.1ms postprocess per image at shape (1, 3, 384, 640)\n",
            "\n",
            "0: 384x640 9 cars, 2559.6ms\n",
            "Speed: 3.7ms preprocess, 2559.6ms inference, 0.9ms postprocess per image at shape (1, 3, 384, 640)\n",
            "\n",
            "0: 384x640 10 cars, 3159.5ms\n",
            "Speed: 3.9ms preprocess, 3159.5ms inference, 1.4ms postprocess per image at shape (1, 3, 384, 640)\n",
            "\n",
            "0: 384x640 10 cars, 3636.2ms\n",
            "Speed: 8.0ms preprocess, 3636.2ms inference, 1.8ms postprocess per image at shape (1, 3, 384, 640)\n",
            "\n",
            "0: 384x640 9 cars, 2519.6ms\n",
            "Speed: 4.3ms preprocess, 2519.6ms inference, 0.9ms postprocess per image at shape (1, 3, 384, 640)\n",
            "\n",
            "0: 384x640 8 cars, 2629.6ms\n",
            "Speed: 3.2ms preprocess, 2629.6ms inference, 0.9ms postprocess per image at shape (1, 3, 384, 640)\n",
            "\n",
            "0: 384x640 8 cars, 2537.9ms\n",
            "Speed: 3.8ms preprocess, 2537.9ms inference, 0.9ms postprocess per image at shape (1, 3, 384, 640)\n",
            "\n",
            "0: 384x640 8 cars, 3265.5ms\n",
            "Speed: 3.7ms preprocess, 3265.5ms inference, 1.1ms postprocess per image at shape (1, 3, 384, 640)\n",
            "\n",
            "0: 384x640 8 cars, 3579.7ms\n",
            "Speed: 4.1ms preprocess, 3579.7ms inference, 1.0ms postprocess per image at shape (1, 3, 384, 640)\n",
            "\n",
            "0: 384x640 8 cars, 2604.4ms\n",
            "Speed: 6.9ms preprocess, 2604.4ms inference, 0.9ms postprocess per image at shape (1, 3, 384, 640)\n",
            "\n"
          ]
        }
      ]
    },
    {
      "cell_type": "markdown",
      "id": "067dbc12",
      "metadata": {
        "id": "067dbc12"
      },
      "source": [
        "## Process Video Frames and Identify Vehicles Left the Road Form Each Street"
      ]
    },
    {
      "cell_type": "markdown",
      "id": "aa695d88",
      "metadata": {
        "id": "aa695d88"
      },
      "source": [
        "For each frame in the video, use the YOLO model to detect and track vehicles. You will need to write a loop that processes each frame and applies the YOLO model.\n",
        "\n",
        "In each frame, after detecting the vehicles, determine whether they exited the road via the top, bottom, left, or right street. You can use the positions of the bounding boxes provided by YOLO to do this.\n",
        "\n",
        "- The video should display bounding boxes around the detected objects.\n",
        "- The video should display your name on the top.\n",
        "- It should display the calculated center of each vehicle.\n",
        "- The video should display the confidence score, alongside the object ID and class ID of each detected and tracked object.\n",
        "- The video should display the rectangles representing the regions where you count the vehicles that have crossed and exited.\n",
        "- The video should display the number of vehicles that exited via the top street.\n",
        "- The video should display the number of vehicles that exited via the bottom street.\n",
        "- The video should display the number of vehicles that exited via the left street.\n",
        "- The video should display the number of vehicles that exited via the right street."
      ]
    },
    {
      "cell_type": "code",
      "source": [
        "video = cv2.VideoCapture('/content/YOLO_Practical.mp4')\n",
        "\n",
        "fps = video.get(cv2.CAP_PROP_FPS)\n",
        "\n",
        "min = 0\n",
        "sec = 15\n",
        "frame_id = int(fps*(min*60 + sec))\n",
        "print('frame id =',frame_id)\n",
        "\n",
        "video.set(cv2.CAP_PROP_POS_FRAMES, frame_id)\n",
        "ret, frame = video.read()\n",
        "\n",
        "t_msec = 1000*(min*60 + sec)\n",
        "video.set(cv2.CAP_PROP_POS_MSEC, t_msec)\n",
        "ret, frame = video.read()\n",
        "\n",
        "cv2.imwrite('myframe.png', frame)\n",
        "\n"
      ],
      "metadata": {
        "id": "Gu3nvcbnM5-7"
      },
      "id": "Gu3nvcbnM5-7",
      "execution_count": null,
      "outputs": []
    },
    {
      "cell_type": "markdown",
      "id": "71d3083e",
      "metadata": {
        "id": "71d3083e"
      },
      "source": [
        "## Save and Submit Your Work"
      ]
    },
    {
      "cell_type": "code",
      "source": [],
      "metadata": {
        "id": "l5RiILMCOMyL"
      },
      "id": "l5RiILMCOMyL",
      "execution_count": null,
      "outputs": []
    },
    {
      "cell_type": "markdown",
      "id": "ae5e33ac",
      "metadata": {
        "id": "ae5e33ac"
      },
      "source": [
        "Submit both the notebook and the output video"
      ]
    }
  ],
  "metadata": {
    "language_info": {
      "name": "python"
    },
    "colab": {
      "provenance": []
    },
    "kernelspec": {
      "name": "python3",
      "display_name": "Python 3"
    }
  },
  "nbformat": 4,
  "nbformat_minor": 5
}